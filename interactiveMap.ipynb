{
 "cells": [
  {
   "cell_type": "code",
   "execution_count": null,
   "metadata": {},
   "outputs": [],
   "source": [
    "import folium\n",
    "import altair as alt\n",
    "import numpy as np\n",
    "import matplotlib as plt\n",
    "import pandas as pd\n",
    "import json"
   ]
  },
  {
   "cell_type": "code",
   "execution_count": null,
   "metadata": {},
   "outputs": [],
   "source": [
    "!python --version"
   ]
  },
  {
   "cell_type": "code",
   "execution_count": null,
   "metadata": {},
   "outputs": [],
   "source": [
    "# Test map of area 1\n",
    "from folium import FeatureGroup, LayerControl, Map, Marker\n",
    "\n",
    "\n",
    "city = 'manchester'\n",
    "#city = 'bournemouth'\n"
   ]
  },
  {
   "cell_type": "code",
   "execution_count": null,
   "metadata": {},
   "outputs": [],
   "source": [
    "# Load needed local files\n",
    "\n",
    "df1 = pd.read_csv('../dummyPracticeData.csv')\n",
    "city_shapes = f'../{city}_LL.geojson'\n",
    "#city_shapes = f'../{city}.json'\n",
    "#df2 = pd.read_csv(f'../{city}_area_all_demog.csv')\n",
    "\n",
    "df2 = pd.read_csv(f'../{city}_area_variables_categorised.csv')"
   ]
  },
  {
   "cell_type": "code",
   "execution_count": null,
   "metadata": {},
   "outputs": [],
   "source": [
    "locationData = df1[['longitude','lattitude']]\n"
   ]
  },
  {
   "cell_type": "code",
   "execution_count": null,
   "metadata": {},
   "outputs": [],
   "source": [
    "list(df2.columns.values)"
   ]
  },
  {
   "cell_type": "code",
   "execution_count": null,
   "metadata": {},
   "outputs": [],
   "source": [
    "hosp1 = [locationData['longitude'][0],locationData['lattitude'][0]]\n",
    "sat1 = [locationData['longitude'][1],locationData['lattitude'][1]]\n",
    "sat2 = [locationData['longitude'][2],locationData['lattitude'][2]]\n",
    "sat3 = [locationData['longitude'][3],locationData['lattitude'][3]]"
   ]
  },
  {
   "cell_type": "code",
   "execution_count": null,
   "metadata": {
    "scrolled": true
   },
   "outputs": [],
   "source": [
    "m = folium.Map(location=[53.4808, -2.2426],tiles='stamen toner',zoom_start=11)\n",
    "\n",
    "#feature_group1 = FeatureGroup(name='PetHack Veterinary Group')\n",
    "feature_group2 = FeatureGroup(name='Other Practices')\n"
   ]
  },
  {
   "cell_type": "code",
   "execution_count": null,
   "metadata": {},
   "outputs": [],
   "source": [
    "#Add markers proportional to practice sizes\n",
    "\n",
    "folium.CircleMarker(\n",
    "    radius=10,\n",
    "    location=hosp1,\n",
    "    popup='PetHack Hospital',\n",
    "    color='#F75C03',\n",
    "    fill=True,\n",
    "    fill_color = '#F75C03'\n",
    ").add_to(m)\n",
    "\n",
    "folium.Circle(\n",
    "    location=sat1,\n",
    "    radius=10,\n",
    "    popup='PetHack Branch 1',\n",
    "    color='#F75C03',\n",
    "    fill=True,\n",
    "    fill_color='#F75C03'\n",
    ").add_to(m)\n",
    "\n",
    "folium.Circle(\n",
    "    location=sat2,\n",
    "    radius=10,\n",
    "    popup='PetHack Branch 2',\n",
    "    color='#F75C03',\n",
    "    fill=True,\n",
    "    fill_color='#F75C03'\n",
    ").add_to(m)\n",
    "\n",
    "folium.Circle(\n",
    "    location=sat3,\n",
    "    radius=10,\n",
    "    popup='PetHack Branch 3',\n",
    "    color='#F75C03',\n",
    "    fill=True,\n",
    "    fill_color='#F75C03'\n",
    ").add_to(m)"
   ]
  },
  {
   "cell_type": "code",
   "execution_count": null,
   "metadata": {},
   "outputs": [],
   "source": [
    "#Add dots to represent all other practices (not part of dummy group)"
   ]
  },
  {
   "cell_type": "code",
   "execution_count": null,
   "metadata": {},
   "outputs": [],
   "source": [
    "folium.Choropleth(\n",
    "    geo_data=city_shapes,\n",
    "    name='Access to Car Index',\n",
    "    data=df2,\n",
    "    #The column aceppting list with 2 value; The country name and  the numerical value\n",
    "    columns=['LSOA01NM', 'access_to_car_quant'],\n",
    "    key_on='feature.properties.LSOA01NM',\n",
    "    fill_color='PuRd'\n",
    "    #nan_fill_color='green'\n",
    ").add_to(m)\n",
    "\n",
    "folium.Choropleth(\n",
    "    geo_data=city_shapes,\n",
    "    name='Cat Density Index',\n",
    "    data=df2,\n",
    "    #The column aceppting list with 2 value; The country name and  the numerical value\n",
    "    columns=['LSOA01NM', 'cat_density_quant'],\n",
    "    key_on='feature.properties.LSOA01NM',\n",
    "    fill_color='PuRd'\n",
    "    #nan_fill_color='green'\n",
    ").add_to(m)\n",
    "\n",
    "folium.Choropleth(\n",
    "    geo_data=city_shapes,\n",
    "    name='Index of Deprivation',\n",
    "    data=df2,\n",
    "    #The column aceppting list with 2 value; The country name and  the numerical value\n",
    "    columns=['LSOA01NM', 'IMD_class_quant'],\n",
    "    key_on='feature.properties.LSOA01NM',\n",
    "    fill_color='PuRd'\n",
    "    #nan_fill_color='green'\n",
    ").add_to(m)\n",
    "\n",
    "\n",
    "\n",
    "folium.map.Layer(name=None, overlay=False, control=True, show=True)\n",
    "folium.map.LayerControl(position='topright', collapsed=True, autoZIndex=True)"
   ]
  },
  {
   "cell_type": "markdown",
   "metadata": {},
   "source": [
    "Import df with background map info (other vet practices, area information from census etc.)"
   ]
  },
  {
   "cell_type": "code",
   "execution_count": null,
   "metadata": {},
   "outputs": [],
   "source": [
    "df3 = pd.read_csv(f'../{city}_clinics.csv')"
   ]
  },
  {
   "cell_type": "code",
   "execution_count": null,
   "metadata": {},
   "outputs": [],
   "source": [
    "df3.head()"
   ]
  },
  {
   "cell_type": "code",
   "execution_count": null,
   "metadata": {},
   "outputs": [],
   "source": [
    "colNames = list(df3.columns.values)"
   ]
  },
  {
   "cell_type": "code",
   "execution_count": null,
   "metadata": {},
   "outputs": [],
   "source": [
    "clinicsOnly = df3[['Latitude','Longitude']]\n",
    "clinicList = clinicsOnly.values.tolist()"
   ]
  },
  {
   "cell_type": "code",
   "execution_count": null,
   "metadata": {},
   "outputs": [],
   "source": [
    "for i in range(len(clinicList)):\n",
    "    folium.Circle(\n",
    "    location=clinicList[i],\n",
    "    radius=5,\n",
    "    popup='Veterinary Clinic',\n",
    "    color='blue',\n",
    "    fill=True,\n",
    "    fill_color='#1D8A99'\n",
    "    ).add_to(feature_group2)"
   ]
  },
  {
   "cell_type": "code",
   "execution_count": null,
   "metadata": {},
   "outputs": [],
   "source": [
    "#feature_group1.add_to(m)\n",
    "feature_group2.add_to(m)\n",
    "LayerControl().add_to(m)\n",
    "\n",
    "\n",
    "m"
   ]
  },
  {
   "cell_type": "markdown",
   "metadata": {},
   "source": [
    "Add layers to the map, hover over tooltips for different defined areas (? what the definition is e.g. postcodes as rows on the df..)"
   ]
  },
  {
   "cell_type": "code",
   "execution_count": null,
   "metadata": {},
   "outputs": [],
   "source": []
  },
  {
   "cell_type": "markdown",
   "metadata": {},
   "source": [
    "Display new version of map"
   ]
  },
  {
   "cell_type": "code",
   "execution_count": null,
   "metadata": {},
   "outputs": [],
   "source": []
  },
  {
   "cell_type": "markdown",
   "metadata": {},
   "source": [
    "Add customisation options to the map - i.e. filter which layers show"
   ]
  },
  {
   "cell_type": "code",
   "execution_count": null,
   "metadata": {},
   "outputs": [],
   "source": []
  },
  {
   "cell_type": "markdown",
   "metadata": {},
   "source": [
    "Import hospital's own df (using our false practice data here) and plot markers on map - click on marker and then display information on right of surrounding area if it's possible - marker size related to hosp size staff wise"
   ]
  },
  {
   "cell_type": "code",
   "execution_count": null,
   "metadata": {},
   "outputs": [],
   "source": []
  },
  {
   "cell_type": "code",
   "execution_count": null,
   "metadata": {},
   "outputs": [],
   "source": [
    "#m.save('tester_manchester.html')"
   ]
  }
 ],
 "metadata": {
  "kernelspec": {
   "display_name": "Python 3",
   "language": "python",
   "name": "python3"
  },
  "language_info": {
   "codemirror_mode": {
    "name": "ipython",
    "version": 3
   },
   "file_extension": ".py",
   "mimetype": "text/x-python",
   "name": "python",
   "nbconvert_exporter": "python",
   "pygments_lexer": "ipython3",
   "version": "3.8.2"
  }
 },
 "nbformat": 4,
 "nbformat_minor": 4
}
